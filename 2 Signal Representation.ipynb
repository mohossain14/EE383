{
 "cells": [
  {
   "cell_type": "markdown",
   "metadata": {},
   "source": [
    "# Signal Representation\n",
    "\n",
    "The following code cell contains a Python function to plot the line spectra of signals in frequency domain.\n",
    "\n",
    "Click \"Run All\" when running the notebook for the first time."
   ]
  },
  {
   "cell_type": "code",
   "execution_count": null,
   "metadata": {},
   "outputs": [
    {
     "ename": "",
     "evalue": "",
     "output_type": "error",
     "traceback": [
      "\u001b[1;31mRunning cells with 'c:\\Users\\Mohammad\\AppData\\Local\\Programs\\Python\\Python310\\python.exe' requires the ipykernel package.\n",
      "\u001b[1;31mRun the following command to install 'ipykernel' into the Python environment. \n",
      "\u001b[1;31mCommand: 'c:/Users/Mohammad/AppData/Local/Programs/Python/Python310/python.exe -m pip install ipykernel -U --user --force-reinstall'"
     ]
    }
   ],
   "source": [
    "import numpy as np\n",
    "import matplotlib.pyplot as plt\n",
    "from matplotlib.ticker import (MultipleLocator, AutoMinorLocator)\n",
    "\n",
    "# To make the plot interactive\n",
    "#%matplotlib widget\n",
    "\n",
    "# Define function to plot one-sided or two-sided line spectrum\n",
    "def line_spectra(f,X,mode,angle='rad',sides=2):\n",
    "    # Eliminate zero-valued co-efficients\n",
    "    idx = np.nonzero(X)[0]\n",
    "    X = X[idx]\n",
    "    f = f[idx]\n",
    "    if mode=='mag':\n",
    "        for i in range(len(f)):\n",
    "            if(f[i]==0):\n",
    "                plt.stem([f[i],f[i]],[0,np.abs(X[i])])\n",
    "            elif(f[i]>0 and sides==2):\n",
    "                plt.stem([f[i],f[i]],[0,0.5*np.abs(X[i])])\n",
    "                plt.stem([-f[i],-f[i]],[0,0.5*np.abs(X[i])])\n",
    "            elif(f[i]>0 and sides==1):\n",
    "                plt.stem([f[i],f[i]],[0,np.abs(X[i])])\n",
    "        plt.grid()\n",
    "        if sides==2:\n",
    "            plt.axis([-1.2*np.max(f),1.2*np.max(f),0,0.75*np.max(np.abs(X))])\n",
    "        elif sides==1:\n",
    "            plt.axis([-1,1.2*np.max(f),0,1.2*np.max(np.abs(X))])\n",
    "        plt.ylabel('Amplitude')\n",
    "        plt.xlabel('Frequency [Hz]')\n",
    "        plt.axhline(color='gray',linewidth=1)\n",
    "        plt.axvline(color='gray',linewidth=1)\n",
    "    elif mode=='phase':\n",
    "        if angle=='rad':\n",
    "            for i in range(len(f)):\n",
    "                if(f[i]==0):\n",
    "                    plt.stem([f[i],f[i]],[0,np.angle(X[i])])\n",
    "                elif(f[i]>0 and sides==2):\n",
    "                    plt.stem([f[i],f[i]],[0,np.angle(X[i])])\n",
    "                    plt.stem([-f[i],-f[i]],[0,-np.angle(X[i])])\n",
    "                elif(f[i]>0 and sides==1):\n",
    "                    plt.stem([f[i],f[i]],[0,np.angle(X[i])])\n",
    "            plt.grid()\n",
    "            if sides==2:\n",
    "                plt.plot([-1.2*np.max(f),1.2*np.max(f)],[0,0],'gray')\n",
    "                plt.xlim([-1.2*np.max(f),1.2*np.max(f)])\n",
    "                my_yticks = ['$-\\pi$','$-3\\pi/4$','$-\\pi/2$','$-\\pi/4$','$0$','$\\pi/4$','$\\pi/2$','$3\\pi/4$','$\\pi$']   \n",
    "                plt.yticks([-np.pi,-3*np.pi/4,-np.pi/2,-np.pi/4,0,np.pi/4,np.pi/2,3*np.pi/4,np.pi],my_yticks) \n",
    "            if sides==1:\n",
    "                plt.plot([0,1.2*np.max(f)],[0,0],'gray')\n",
    "                plt.xlim([-1,1.2*np.max(f)])\n",
    "                my_yticks = ['$-\\pi$','$-3\\pi/4$','$-\\pi/2$','$-\\pi/4$','$0$','$\\pi/4$','$\\pi/2$','$3\\pi/4$','$\\pi$']   \n",
    "                plt.yticks([-np.pi,-3*np.pi/4,-np.pi/2,-np.pi/4,0,np.pi/4,np.pi/2,3*np.pi/4,np.pi],my_yticks) \n",
    "            plt.ylabel('Phase [rad]')\n",
    "            plt.xlabel('Frequency [Hz]')\n",
    "            plt.axhline(color='gray',linewidth=1)\n",
    "            plt.axvline(color='gray',linewidth=1)\n",
    "        elif angle=='deg':\n",
    "            for i in range(len(f)):\n",
    "                if(f[i]==0 or (f[i]>0 and sides==1)):\n",
    "                    plt.stem([f[i],f[i]],[0,np.rad2deg(np.angle(X[i]))])\n",
    "                elif(f[i]>0 and sides==2):\n",
    "                    plt.stem([f[i],f[i]],[0,np.rad2deg(np.angle(X[i]))])\n",
    "                    plt.stem([-f[i],-f[i]],[0,np.rad2deg(-np.angle(X[i]))])\n",
    "            plt.grid()\n",
    "            if sides==2:\n",
    "                plt.plot([-1.2*np.max(f),1.2*np.max(f)],[0,0],'gray')\n",
    "                plt.xlim([-1.2*np.max(f),1.2*np.max(f)])\n",
    "                my_yticks = [-180,-135,-90,-45,0,45,90,135,180]   \n",
    "                plt.yticks(my_yticks)     \n",
    "            if sides==1:\n",
    "                plt.plot([0,1.2*np.max(f)],[0,0],'gray')\n",
    "                plt.xlim([-1,1.2*np.max(f)])  \n",
    "                my_yticks = [-180,-135,-90,-45,0,45,90,135,180]   \n",
    "                plt.yticks(my_yticks)                       \n",
    "            plt.ylabel('Phase [deg]')\n",
    "            plt.xlabel('Frequency [Hz]')\n",
    "            plt.axhline(color='gray',linewidth=1)\n",
    "            plt.axvline(color='gray',linewidth=1)"
   ]
  },
  {
   "cell_type": "markdown",
   "metadata": {},
   "source": [
    "## Phasor representation\n",
    "\n",
    "Any time-domain signal, $s(t)$, can be represented as a complex sinusoid of the form,\n",
    "$$\n",
    "s(t) = A\\,e^{j(2\\pi ft + \\theta)}\n",
    "$$\n",
    "\n",
    "According to Euler's identity,\n",
    "$$\n",
    "e^{j\\phi} = \\cos(\\phi) + j\\sin(\\phi)\n",
    "$$\n",
    "\n",
    "Therefore,\n",
    "$$\n",
    "s(t) = A\\cos(2\\pi ft + \\theta) + jA\\sin(2\\pi ft + \\theta)\n",
    "$$\n",
    "\n",
    "The complex sinusoid can be visualized in 3D as shown below.\n",
    "\n",
    "Here, $A=1$, $f=2\\,\\mathrm{Hz}$, and $\\theta=\\dfrac{\\pi}{4}\\,\\mathrm{rad}$."
   ]
  },
  {
   "cell_type": "code",
   "execution_count": null,
   "metadata": {},
   "outputs": [
    {
     "ename": "",
     "evalue": "",
     "output_type": "error",
     "traceback": [
      "\u001b[1;31mRunning cells with 'c:\\Users\\Mohammad\\AppData\\Local\\Programs\\Python\\Python310\\python.exe' requires the ipykernel package.\n",
      "\u001b[1;31mRun the following command to install 'ipykernel' into the Python environment. \n",
      "\u001b[1;31mCommand: 'c:/Users/Mohammad/AppData/Local/Programs/Python/Python310/python.exe -m pip install ipykernel -U --user --force-reinstall'"
     ]
    }
   ],
   "source": [
    "# Create time axis\n",
    "t = np.linspace(0,2,2048) \n",
    "\n",
    "# Define complex sinusoid \n",
    "A = 1                   # amplitude\n",
    "f0 = 2                  # frequency [Hz]\n",
    "theta = np.pi/4         # phase angle [rad]\n",
    "s_t = np.exp(1j*(2*np.pi*f0*t+theta))\n",
    "\n",
    "# Determine the real and imaginary parts of the signal.\n",
    "Re_s_t = np.real(s_t)\n",
    "Im_s_t = np.imag(s_t)\n",
    "\n",
    "\n",
    "\n",
    "# Create the figure\n",
    "fig = plt.figure(figsize=(7,7))\n",
    "fig.suptitle('Complex sinusoid')\n",
    "ax = fig.add_subplot(projection='3d')\n",
    "\n",
    "# Hide the figure number at the top of the figure. Required only when plot is interactive.\n",
    "#fig.canvas.header_visible = False\n",
    "\n",
    "# Create the plot (that will go inside the figure)\n",
    "X, Y, Z = t, Re_s_t, Im_s_t\n",
    "ax.plot(X, Y, Z)\n",
    "\n",
    "# Set axes limits\n",
    "ax.set_xlim(0,2)    \n",
    "ax.set_ylim(-1,1)   \n",
    "ax.set_zlim(-1,1)\n",
    "\n",
    "# Set major ticks to be multiples of whatever number is in the parentheses\n",
    "ax.xaxis.set_major_locator(MultipleLocator(0.5))\n",
    "ax.yaxis.set_major_locator(MultipleLocator(0.5))\n",
    "ax.zaxis.set_major_locator(MultipleLocator(0.5))\n",
    "\n",
    "# Set minor ticks to be multiples of whatever number is in the parentheses\n",
    "#ax.xaxis.set_minor_locator(MultipleLocator(0.1))\n",
    "#ax.yaxis.set_minor_locator(MultipleLocator(0.1))\n",
    "#ax.zaxis.set_minor_locator(MultipleLocator(0.1))\n",
    "\n",
    "# Hide grid lines\n",
    "ax.grid(False)\n",
    "\n",
    "# Set axes labels\n",
    "ax.set_xlabel('Time, $t$ [s]')\n",
    "ax.set_ylabel('$\\mathrm{Re}[s(t)]$')\n",
    "ax.set_zlabel('$\\mathrm{Im}[s(t)]$')\n",
    "\n",
    "# Change viewing angle\n",
    "ax.view_init(elev=20, azim=-120)\n",
    "\n",
    "# Display the plot\n",
    "plt.tight_layout()\n",
    "plt.show()  "
   ]
  },
  {
   "cell_type": "markdown",
   "metadata": {},
   "source": [
    "### 2D Projections\n",
    "\n",
    "The real part represents a cosine wave, which can be expressed as\n",
    "$$\n",
    "\\begin{align*}\n",
    "A\\cos(2\\pi ft + \\theta) &= \\dfrac{1}{2}s(t) + \\dfrac{1}{2}s^{*}(t)\\\\\n",
    "\\\\\n",
    "&=\\dfrac{A}{2}e^{j(2\\pi ft+\\theta)} + \\dfrac{A}{2}e^{-j(2\\pi ft+\\theta)}\n",
    "\\end{align*}\n",
    "$$\n",
    "\n",
    "The imaginary part represents a sine wave, which can be expressed as\n",
    "$$\n",
    "\\begin{align*}\n",
    "A\\sin(2\\pi ft + \\theta) &= \\dfrac{1}{2j}s(t) + \\dfrac{1}{2j}s^{*}(t)\\\\\n",
    "\\\\\n",
    "&= \\dfrac{1}{2j}e^{j(2\\pi ft+\\theta)} - \\dfrac{1}{2j}e^{-j(2\\pi ft+\\theta)}\n",
    "\\end{align*}\n",
    "$$\n",
    "\n",
    "The signal can also be expressed as\n",
    "$$\n",
    "\\begin{align*}\n",
    "s(t) &= A\\,e^{j(2\\pi ft+\\theta)}\\\\\n",
    "&= A\\,e^{j2\\pi ft}\\,e^{j\\theta}\\\\\n",
    "&= \\widetilde{S}\\,e^{j2\\pi ft}\n",
    "\\end{align*}\n",
    "$$\n",
    "where $\\widetilde{S}=A\\,e^{j\\theta}$ is the phasor of $s(t)$.\n",
    "\n",
    "**Note:** The phasor of a signal is completely *time-independent*, and is defined at a given frequency."
   ]
  },
  {
   "cell_type": "code",
   "execution_count": null,
   "metadata": {},
   "outputs": [
    {
     "ename": "",
     "evalue": "",
     "output_type": "error",
     "traceback": [
      "\u001b[1;31mRunning cells with 'c:\\Users\\Mohammad\\AppData\\Local\\Programs\\Python\\Python310\\python.exe' requires the ipykernel package.\n",
      "\u001b[1;31mRun the following command to install 'ipykernel' into the Python environment. \n",
      "\u001b[1;31mCommand: 'c:/Users/Mohammad/AppData/Local/Programs/Python/Python310/python.exe -m pip install ipykernel -U --user --force-reinstall'"
     ]
    }
   ],
   "source": [
    "# Plot 2D views of the complex sinusoid\n",
    "fig = plt.figure(figsize=(7,7))\n",
    "fig.suptitle('2D Projections')\n",
    "\n",
    "# Hide the figure number at the top of the figure\n",
    "fig.canvas.header_visible = False\n",
    "\n",
    "fig.add_subplot(3,2,1)\n",
    "plt.axvline(color='gray')\n",
    "plt.axhline(color='gray')\n",
    "plt.plot(t, Im_s_t)\n",
    "plt.ylabel('$\\mathrm{Im}[s(t)]$')\n",
    "#plt.xlabel('Time, $t$ [s]')\n",
    "\n",
    "fig.add_subplot(3,2,3)\n",
    "plt.axvline(color='gray') \n",
    "plt.axhline(color='gray')\n",
    "plt.plot(t, Re_s_t)\n",
    "plt.ylabel('$\\mathrm{Re}[s(t)]$')\n",
    "plt.xlabel('Time, $t$ [s]')\n",
    "\n",
    "fig.add_subplot(2,3,3)\n",
    "plt.axvline(color='gray')\n",
    "plt.axhline(color='gray')\n",
    "plt.plot(Re_s_t, Im_s_t)\n",
    "plt.quiver(0,0,A*np.cos(theta),A*np.sin(theta),angles='xy',scale_units='xy',scale=1,color='red',width=0.02)\n",
    "plt.ylabel('$\\mathrm{Im}[s(t)]$')\n",
    "plt.xlabel('$\\mathrm{Re}[s(t)]$')\n",
    "\n",
    "plt.show()"
   ]
  },
  {
   "cell_type": "markdown",
   "metadata": {},
   "source": [
    "## Line spectra\n",
    "\n",
    "A signal existing in the time domain may have more than one frequency component.\n",
    "\n",
    "A line spectrum is the frequency domain representation of a phasor. It is used to visualize the amplitude and phase angle of the phasor corresponding to each frequency component of the signal.\n",
    "\n",
    "Both amplitude and phase spectrum are required to completely define a time function.\n",
    "\n",
    "### One-sided spectrum\n",
    "A single line in a one-sided spectrum represents a real sinusoidal wave.\n",
    "\n",
    "### Two-sided spectrum\n",
    "A single line in a two-sided spectrum represents a complex exponential, which when added to its complex conjugate results in a real sinusoidal function.\n",
    "\n",
    "### Example 1\n",
    "Consider the signal,\n",
    "$$\n",
    "x(t) = 4\\cos\\left(2\\pi 10t + \\dfrac{\\pi}{3}\\right) + 12\\sin\\left(2\\pi 20t-\\dfrac{\\pi}{4}\\right)\n",
    "$$"
   ]
  },
  {
   "cell_type": "code",
   "execution_count": null,
   "metadata": {},
   "outputs": [
    {
     "ename": "",
     "evalue": "",
     "output_type": "error",
     "traceback": [
      "\u001b[1;31mRunning cells with 'c:\\Users\\Mohammad\\AppData\\Local\\Programs\\Python\\Python310\\python.exe' requires the ipykernel package.\n",
      "\u001b[1;31mRun the following command to install 'ipykernel' into the Python environment. \n",
      "\u001b[1;31mCommand: 'c:/Users/Mohammad/AppData/Local/Programs/Python/Python310/python.exe -m pip install ipykernel -U --user --force-reinstall'"
     ]
    }
   ],
   "source": [
    "# Define the time domain signal\n",
    "x_t = 8*(np.cos(2*np.pi*4*t-(np.pi/6))**2)+10*np.sin(2*np.pi*16*t+(np.pi/6))\n",
    "\n",
    "# Plot the signal\n",
    "plt.axvline(color='white')\n",
    "plt.axhline(color='white')\n",
    "plt.plot(t,x_t)\n",
    "plt.xlim(0,1)\n",
    "plt.show()"
   ]
  },
  {
   "cell_type": "markdown",
   "metadata": {},
   "source": [
    "#### One-sided spectrum of $x(t)$\n",
    "Convert the sine term to cosine,\n",
    "$$\n",
    "x(t) = 4\\cos\\left(2\\pi 10t + \\dfrac{\\pi}{3}\\right) + 12\\cos\\left(2\\pi 20t-\\dfrac{3\\pi}{4}\\right)\n",
    "$$\n",
    "\n",
    "#### Two-sided spectrum of $x(t)$\n",
    "In complex exponential form,\n",
    "$$\n",
    "\\begin{align*}\n",
    "x(t) &= 2\\,e^{j(2\\pi 10t+\\pi/3)} + 2\\,e^{-j(2\\pi10t+\\pi/3)}\\\\\n",
    "&+ 6\\,e^{j(2\\pi 20t-3\\pi/4)} + 6\\,e^{-j(2\\pi20 t-3\\pi/4)}\n",
    "\\end{align*}\n",
    "$$"
   ]
  },
  {
   "cell_type": "code",
   "execution_count": null,
   "metadata": {},
   "outputs": [
    {
     "ename": "",
     "evalue": "",
     "output_type": "error",
     "traceback": [
      "\u001b[1;31mRunning cells with 'c:\\Users\\Mohammad\\AppData\\Local\\Programs\\Python\\Python310\\python.exe' requires the ipykernel package.\n",
      "\u001b[1;31mRun the following command to install 'ipykernel' into the Python environment. \n",
      "\u001b[1;31mCommand: 'c:/Users/Mohammad/AppData/Local/Programs/Python/Python310/python.exe -m pip install ipykernel -U --user --force-reinstall'"
     ]
    }
   ],
   "source": [
    "# Create a frequency axis\n",
    "f = np.arange(0,50)     \n",
    "\n",
    "# Specify each frequency present in the signal\n",
    "f0 = 0     # in Hz                 \n",
    "f1 = 8     # in Hz\n",
    "f2 = 16\n",
    "# Create a zero-filled array to store the phasors.\n",
    "# Phasors are complex numbers.\n",
    "# So, to get correct results, specify it as \"complex\" type\n",
    "Xn = np.zeros(len(f),dtype=complex)\n",
    "\n",
    "# Specify the phasor value at each frequency.\n",
    "Xn[f0] = 4.0\n",
    "Xn[f1] = 4.0*np.exp(1j*(-np.pi/3))\n",
    "Xn[f2] = 10.0*np.exp(1j*(-np.pi/3))\n",
    "\n",
    "# Plot the one-sided line spectrum\n",
    "line_spectra(f,Xn,mode='mag',sides=1)\n",
    "plt.show()\n",
    "\n",
    "line_spectra(f,Xn,mode='phase',sides=1)\n",
    "plt.show()"
   ]
  },
  {
   "cell_type": "code",
   "execution_count": null,
   "metadata": {},
   "outputs": [
    {
     "ename": "",
     "evalue": "",
     "output_type": "error",
     "traceback": [
      "\u001b[1;31mRunning cells with 'c:\\Users\\Mohammad\\AppData\\Local\\Programs\\Python\\Python310\\python.exe' requires the ipykernel package.\n",
      "\u001b[1;31mRun the following command to install 'ipykernel' into the Python environment. \n",
      "\u001b[1;31mCommand: 'c:/Users/Mohammad/AppData/Local/Programs/Python/Python310/python.exe -m pip install ipykernel -U --user --force-reinstall'"
     ]
    }
   ],
   "source": [
    "# Plot the two-sided line spectrum\n",
    "line_spectra(f,Xn,mode='mag',sides=2)\n",
    "plt.show()\n",
    "\n",
    "line_spectra(f,Xn,mode='phase',sides=2)\n",
    "plt.show()"
   ]
  },
  {
   "cell_type": "markdown",
   "metadata": {},
   "source": [
    "### Example 2\n",
    "Consider the signal,\n",
    "$$\n",
    "\\begin{align*}\n",
    "y(t) &= \\cos(2\\pi 5t) + \\sin^{2}(2\\pi 10t)\\\\\n",
    "&= \\cos(2\\pi 5t) + \\dfrac{1}{2}-\\dfrac{1}{2}\\cos(2\\pi 20t)\n",
    "\\end{align*}\n",
    "$$"
   ]
  },
  {
   "cell_type": "code",
   "execution_count": null,
   "metadata": {},
   "outputs": [
    {
     "ename": "",
     "evalue": "",
     "output_type": "error",
     "traceback": [
      "\u001b[1;31mRunning cells with 'c:\\Users\\Mohammad\\AppData\\Local\\Programs\\Python\\Python310\\python.exe' requires the ipykernel package.\n",
      "\u001b[1;31mRun the following command to install 'ipykernel' into the Python environment. \n",
      "\u001b[1;31mCommand: 'c:/Users/Mohammad/AppData/Local/Programs/Python/Python310/python.exe -m pip install ipykernel -U --user --force-reinstall'"
     ]
    }
   ],
   "source": [
    "# Define the time domain signal\n",
    "Va_t = np.sqrt(2) * 10 * np.sin(120 * np.pi * t)\n",
    "Vb_t = np.sqrt(2) * 10 * np.sin(120 * np.pi * t - (2*np.pi/3))\n",
    "Vc_t = np.sqrt(2) * 10 * np.sin(120 * np.pi * t + (2*np.pi/3))\n",
    "\n",
    "Ia_t = np.sqrt(2) * 10 * np.sin(120 * np.pi * t + (np.pi/2))\n",
    "Ib_t = np.sqrt(2) * 10 * np.sin(120 * np.pi * t - (2*np.pi/3) + 0)\n",
    "Ic_t = np.sqrt(2) * 10 * np.sin(120 * np.pi * t + (2*np.pi/3) + 0)\n",
    "\n",
    "Pa_t = Va_t * Ia_t\n",
    "Pb_t = Vb_t * Ib_t\n",
    "Pc_t = Vc_t * Ic_t\n",
    "Psum_t = Pa_t + Pb_t + Pc_t\n",
    "\n",
    "# Plot the signal\n",
    "plt.axvline(color='blue')\n",
    "plt.axhline(color='green')\n",
    "plt.plot(t,Pa_t)\n",
    "plt.plot(t,Pb_t)\n",
    "plt.plot(t,Pc_t)\n",
    "plt.plot(t,Psum_t)\n",
    "plt.xlim(0,0.02)\n",
    "plt.show()\n"
   ]
  },
  {
   "cell_type": "markdown",
   "metadata": {},
   "source": [
    "#### One-sided spectrum of $y(t)$\n",
    "Convert the sine term to cosine,\n",
    "$$\n",
    "y(t) = \\dfrac{1}{2} + \\cos(2\\pi 5t) + \\dfrac{1}{2}\\cos(2\\pi 20t+\\pi)\n",
    "$$\n",
    "\n",
    "#### Two-sided spectrum of $y(t)$\n",
    "In complex exponential form,\n",
    "$$\n",
    "\\begin{align*}\n",
    "y(t) = \\dfrac{1}{2} &+ \\dfrac{1}{2}\\,e^{j(2\\pi 5t)} + \\dfrac{1}{2} \\,e^{-j(2\\pi5t)}\\\\\n",
    "&+ \\dfrac{1}{4}\\,e^{j(2\\pi 20t+\\pi)} + \\dfrac{1}{4}\\,e^{-j(2\\pi20 t+\\pi)}\n",
    "\\end{align*}\n",
    "$$"
   ]
  },
  {
   "cell_type": "code",
   "execution_count": null,
   "metadata": {},
   "outputs": [
    {
     "ename": "",
     "evalue": "",
     "output_type": "error",
     "traceback": [
      "\u001b[1;31mRunning cells with 'c:\\Users\\Mohammad\\AppData\\Local\\Programs\\Python\\Python310\\python.exe' requires the ipykernel package.\n",
      "\u001b[1;31mRun the following command to install 'ipykernel' into the Python environment. \n",
      "\u001b[1;31mCommand: 'c:/Users/Mohammad/AppData/Local/Programs/Python/Python310/python.exe -m pip install ipykernel -U --user --force-reinstall'"
     ]
    }
   ],
   "source": [
    "# Create a frequency axis\n",
    "f = np.arange(0,50)     \n",
    "\n",
    "# Specify each frequency present in the signal\n",
    "f0 = 0     # in Hz                 \n",
    "f1 = 5     # in Hz\n",
    "f2 = 20    # in Hz \n",
    "\n",
    "# Create a zero-filled array to store the phasors.\n",
    "# Phasors are complex numbers.\n",
    "# So, to get correct results, specify it as \"complex\" type\n",
    "Yn = np.zeros(len(f),dtype=complex)\n",
    "\n",
    "# Specify the phasor value at each frequency.\n",
    "Yn[f0] = 0.5\n",
    "Yn[f1] = 1*np.exp(1j*(0))\n",
    "Yn[f2] = 0.5*np.exp(1j*np.pi)\n",
    "\n",
    "# Plot the one-sided line spectrum\n",
    "line_spectra(f,Yn,mode='mag',sides=1)\n",
    "plt.show()\n",
    "\n",
    "line_spectra(f,Yn,mode='phase',sides=1)\n",
    "plt.show()"
   ]
  },
  {
   "cell_type": "code",
   "execution_count": null,
   "metadata": {},
   "outputs": [
    {
     "ename": "",
     "evalue": "",
     "output_type": "error",
     "traceback": [
      "\u001b[1;31mRunning cells with 'c:\\Users\\Mohammad\\AppData\\Local\\Programs\\Python\\Python310\\python.exe' requires the ipykernel package.\n",
      "\u001b[1;31mRun the following command to install 'ipykernel' into the Python environment. \n",
      "\u001b[1;31mCommand: 'c:/Users/Mohammad/AppData/Local/Programs/Python/Python310/python.exe -m pip install ipykernel -U --user --force-reinstall'"
     ]
    }
   ],
   "source": [
    "# Plot the two-sided line spectrum\n",
    "line_spectra(f,Yn,mode='mag',sides=2)\n",
    "plt.show()\n",
    "\n",
    "line_spectra(f,Yn,mode='phase',sides=2)\n",
    "plt.show()"
   ]
  }
 ],
 "metadata": {
  "kernelspec": {
   "display_name": "Python 3",
   "language": "python",
   "name": "python3"
  },
  "language_info": {
   "codemirror_mode": {
    "name": "ipython",
    "version": 3
   },
   "file_extension": ".py",
   "mimetype": "text/x-python",
   "name": "python",
   "nbconvert_exporter": "python",
   "pygments_lexer": "ipython3",
   "version": "3.10.5"
  },
  "orig_nbformat": 4,
  "vscode": {
   "interpreter": {
    "hash": "73c10509234451b7c9059ae5f54ad33529ef7b4c9c761939e46712064d00bc14"
   }
  }
 },
 "nbformat": 4,
 "nbformat_minor": 2
}
